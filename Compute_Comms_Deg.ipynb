{
 "cells": [
  {
   "cell_type": "code",
   "execution_count": 1,
   "metadata": {
    "collapsed": false
   },
   "outputs": [],
   "source": [
    "import numpy as np\n",
    "from scipy.sparse import csr_matrix, lil_matrix\n",
    "\n",
    "def load_sparse_csr(filename):\n",
    "    loader = np.load(filename)\n",
    "    return csr_matrix((  loader['data'], loader['indices'], loader['indptr']),\n",
    "                         shape = loader['shape'])\n",
    "\n",
    "A=load_sparse_csr(\"sparse_matrix.npz\")"
   ]
  },
  {
   "cell_type": "code",
   "execution_count": 2,
   "metadata": {
    "collapsed": false
   },
   "outputs": [
    {
     "data": {
      "text/plain": [
       "<664414x664414 sparse matrix of type '<type 'numpy.int32'>'\n",
       "\twith 270236207 stored elements in Compressed Sparse Row format>"
      ]
     },
     "execution_count": 2,
     "metadata": {},
     "output_type": "execute_result"
    }
   ],
   "source": [
    "A"
   ]
  },
  {
   "cell_type": "code",
   "execution_count": null,
   "metadata": {
    "collapsed": false
   },
   "outputs": [],
   "source": [
    "# Get a symmetric matrix \n",
    "# Still too slow, skip\n",
    "# 1/2*(A+A.transpose())-"
   ]
  },
  {
   "cell_type": "code",
   "execution_count": null,
   "metadata": {
    "collapsed": false,
    "scrolled": true
   },
   "outputs": [
    {
     "name": "stdout",
     "output_type": "stream",
     "text": [
      "rows done: 1000 1.04 secs\n",
      "rows done: 10000 55.01 secs\n"
     ]
    }
   ],
   "source": [
    "import time\n",
    "done = 0\n",
    "degrees = np.zeros((A.shape[0]))\n",
    "t0=time.time()\n",
    "\n",
    "for row in range(A.shape[0]):\n",
    "    #if done>10**3:\n",
    "    #    break\n",
    "    rowSum = (A[row,row+1:].sum(1)+A[:row,row].sum(0)).tolist()  # data type is 1x1 numpy.matrixlib.defmatrix.matrix\n",
    "    degrees[row] = rowSum[0][0]  \n",
    "    done +=1\n",
    "    if done in [10**3, 10**4, 10**5, 2*10**5, 3*10**5, 4*10**5, 5*10**5]:\n",
    "        print \"rows done:\", done, \"{0:.2f}\".format(time.time()-t0), \"secs\"\n",
    "        \n",
    "        \n",
    "print \"rows done:\", done, \"{0:.2f}\".format(time.time()-t0), \"secs\""
   ]
  }
 ],
 "metadata": {
  "kernelspec": {
   "display_name": "Python 2",
   "language": "python",
   "name": "python2"
  },
  "language_info": {
   "codemirror_mode": {
    "name": "ipython",
    "version": 2
   },
   "file_extension": ".py",
   "mimetype": "text/x-python",
   "name": "python",
   "nbconvert_exporter": "python",
   "pygments_lexer": "ipython2",
   "version": "2.7.12"
  }
 },
 "nbformat": 4,
 "nbformat_minor": 0
}
