{
 "cells": [
  {
   "cell_type": "markdown",
   "metadata": {},
   "source": [
    "# Objective: Compute the degree of each community."
   ]
  },
  {
   "cell_type": "markdown",
   "metadata": {},
   "source": [
    "If A is an symmetric matrix, where A[i,j] represent the number of edges between community i and community j, and we ignore the edges from the same communities, then \n",
    "\n",
    "Degree of Community i = (The sum of the ith row of A) - A[i,i]"
   ]
  },
  {
   "cell_type": "code",
   "execution_count": 1,
   "metadata": {
    "collapsed": false
   },
   "outputs": [],
   "source": [
    "import numpy as np\n",
    "from scipy.sparse import csr_matrix, lil_matrix\n",
    "\n",
    "def load_sparse_csr(filename):\n",
    "    loader = np.load(filename)\n",
    "    return csr_matrix((  loader['data'], loader['indices'], loader['indptr']),\n",
    "                         shape = loader['shape'])\n",
    "\n",
    "A=load_sparse_csr(\"sparse_matrix.npz\")"
   ]
  },
  {
   "cell_type": "code",
   "execution_count": 2,
   "metadata": {
    "collapsed": false
   },
   "outputs": [
    {
     "data": {
      "text/plain": [
       "<664414x664414 sparse matrix of type '<type 'numpy.int32'>'\n",
       "\twith 270236207 stored elements in Compressed Sparse Row format>"
      ]
     },
     "execution_count": 2,
     "metadata": {},
     "output_type": "execute_result"
    }
   ],
   "source": [
    "A"
   ]
  },
  {
   "cell_type": "code",
   "execution_count": 3,
   "metadata": {
    "collapsed": false
   },
   "outputs": [],
   "source": [
    "A1 = A          # A1 is A in CSR form : Compressed Sparse Row matrix, efficient row slicing\n",
    "A2 = A.tocsc()  # A2 is A in CSC form : Compressed Sparse Column matrix, efficient column slicing"
   ]
  },
  {
   "cell_type": "code",
   "execution_count": 4,
   "metadata": {
    "collapsed": false
   },
   "outputs": [
    {
     "data": {
      "text/plain": [
       "<664414x664414 sparse matrix of type '<type 'numpy.int32'>'\n",
       "\twith 270236207 stored elements in Compressed Sparse Row format>"
      ]
     },
     "execution_count": 4,
     "metadata": {},
     "output_type": "execute_result"
    }
   ],
   "source": [
    "A1"
   ]
  },
  {
   "cell_type": "code",
   "execution_count": 5,
   "metadata": {
    "collapsed": false
   },
   "outputs": [
    {
     "data": {
      "text/plain": [
       "<664414x664414 sparse matrix of type '<type 'numpy.int32'>'\n",
       "\twith 270236207 stored elements in Compressed Sparse Column format>"
      ]
     },
     "execution_count": 5,
     "metadata": {},
     "output_type": "execute_result"
    }
   ],
   "source": [
    "A2"
   ]
  },
  {
   "cell_type": "markdown",
   "metadata": {},
   "source": [
    "##  Our A=load_sparse_csr(\"sparse_matrix.npz\") is an upper triangular matrix, instead of constructing a symmetric matrix from A, we will use the following formula to compute the sum of each row."
   ]
  },
  {
   "cell_type": "markdown",
   "metadata": {},
   "source": [
    "# For a symmetric matrix A, the sum of each row (excluding the diagonal element) is"
   ]
  },
  {
   "cell_type": "markdown",
   "metadata": {},
   "source": [
    "Sum of elements in the ith row - A[i,i] = $$\\sum_{j\\neq i} A_{ij}= \\sum_{j>i} A_{ij}+ \\sum_{j<i} A_{ij} \\\\= \\sum_{j>i} A_{ij}+ \\sum_{i<j} A_{ji}$$"
   ]
  },
  {
   "cell_type": "code",
   "execution_count": 6,
   "metadata": {
    "collapsed": false
   },
   "outputs": [
    {
     "name": "stdout",
     "output_type": "stream",
     "text": [
      "rows done: 1000 0.28 secs\n",
      "rows done: 10000 2.84 secs\n",
      "rows done: 100000 28.38 secs\n",
      "rows done: 200000 56.97 secs\n",
      "rows done: 300000 85.12 secs\n",
      "rows done: 400000 113.38 secs\n",
      "rows done: 500000 141.68 secs\n",
      "rows done: 664414 187.99 secs\n"
     ]
    }
   ],
   "source": [
    "import time\n",
    "done = 0\n",
    "degrees = np.zeros((A.shape[0]))\n",
    "t0=time.time()\n",
    "\n",
    "for row in xrange(A.shape[0]):\n",
    "    rowSum = (A1[row,row+1:].sum(1)+A2[:row,row].sum(0)).tolist()  # data type is 1x1 numpy.matrixlib.defmatrix.matrix\n",
    "    degrees[row] = rowSum[0][0]  \n",
    "    done +=1\n",
    "    if done in [10**3, 10**4, 10**5, 2*10**5, 3*10**5, 4*10**5, 5*10**5]:\n",
    "        print \"rows done:\", done, \"{0:.2f}\".format(time.time()-t0), \"secs\"\n",
    "        \n",
    "        \n",
    "print \"rows done:\", done, \"{0:.2f}\".format(time.time()-t0), \"secs\""
   ]
  },
  {
   "cell_type": "code",
   "execution_count": 7,
   "metadata": {
    "collapsed": false
   },
   "outputs": [
    {
     "name": "stdout",
     "output_type": "stream",
     "text": [
      "Top 30 communities with the hightest degree\n",
      "[664006, 661354, 653762, 652794, 650822, 650830, 650282, 659019, 648906, 661646, 656578, 649876, 660448, 643217, 649277, 646467, 646601, 646457, 655297, 656293, 662541, 647361, 654692, 646443, 644803, 645070, 651333, 655187, 646614, 641906]\n",
      "\n",
      " Top 5 communities:\n",
      "community id, degree\n",
      "664006 108161320.0\n",
      "661354 12756652.0\n",
      "653762 12741425.0\n",
      "652794 11824516.0\n",
      "650822 10304786.0\n"
     ]
    }
   ],
   "source": [
    "degrees\n",
    "sort_comm = list(degrees.argsort())\n",
    "sort_comm.reverse()\n",
    "\n",
    "print \"Top 30 communities with the hightest degree\" \n",
    "print sort_comm[0:30]   \n",
    "\n",
    "print \"\\n Top 5 communities:\"\n",
    "print \"community id, degree\"\n",
    "for i in range(5):\n",
    "    comm_id = sort_comm[i]\n",
    "    print comm_id, degrees[comm_id]\n"
   ]
  },
  {
   "cell_type": "code",
   "execution_count": null,
   "metadata": {
    "collapsed": true
   },
   "outputs": [],
   "source": []
  }
 ],
 "metadata": {
  "kernelspec": {
   "display_name": "Python 2",
   "language": "python",
   "name": "python2"
  },
  "language_info": {
   "codemirror_mode": {
    "name": "ipython",
    "version": 2
   },
   "file_extension": ".py",
   "mimetype": "text/x-python",
   "name": "python",
   "nbconvert_exporter": "python",
   "pygments_lexer": "ipython2",
   "version": "2.7.12"
  }
 },
 "nbformat": 4,
 "nbformat_minor": 0
}
