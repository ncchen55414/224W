{
 "cells": [
  {
   "cell_type": "code",
   "execution_count": 1,
   "metadata": {
    "collapsed": false
   },
   "outputs": [],
   "source": [
    "import gc\n",
    "import pickle\n",
    "import time\n",
    "\n",
    "##--get graph map\n",
    "def get_graph_info(gf_file):\n",
    "    '''\n",
    "    get graph information as a map\n",
    "    key: user id, value: list of friend id\n",
    "    '''\n",
    "    gf_map = {}\n",
    "    with open(gf_file, 'r') as cf:\n",
    "        for line in cf:\n",
    "            if line[0] != '#':\n",
    "                node_list = line.split('\\t')\n",
    "                if len(node_list) == 2:\n",
    "                    node_list = [int(id) for id in node_list]\n",
    "                    if node_list[0] in gf_map:\n",
    "                        gf_map[node_list[0]].add(node_list[1])\n",
    "                    else:\n",
    "                        gf_map[node_list[0]] = set([node_list[1]])\n",
    "                    if node_list[1] in gf_map:\n",
    "                        gf_map[node_list[1]].add(node_list[0])\n",
    "                    else:\n",
    "                        gf_map[node_list[1]] = set([node_list[0]])                    \n",
    "                else:\n",
    "                    print \"wrong format line: \", line\n",
    "    return gf_map\n",
    "\n",
    "def get_comm_info(comm_file):\n",
    "    '''\n",
    "    get community information, two maps\n",
    "    map1: key: user id, value: community id array\n",
    "    map2: key: community id, value: user id array\n",
    "    '''\n",
    "    comm_map_usr = {}\n",
    "    comm_map_comm = {}\n",
    "    comm_id = 0\n",
    "    with open(comm_file, 'r') as cf:\n",
    "        for line in cf:\n",
    "            node_list = line.split('\\t')\n",
    "            node_list = [int(id) for id in node_list]\n",
    "            for id in node_list:\n",
    "                if id in comm_map_usr:\n",
    "                    comm_map_usr[id].append(comm_id)\n",
    "                else:\n",
    "                    comm_map_usr[id] = [comm_id]\n",
    "            comm_map_comm[comm_id] = node_list[:]\n",
    "            comm_id += 1\n",
    "    return comm_map_usr, comm_map_comm\n"
   ]
  },
  {
   "cell_type": "code",
   "execution_count": 2,
   "metadata": {
    "collapsed": false
   },
   "outputs": [],
   "source": [
    "#t0=time.time()\n",
    "#gf_file = \"../data/com-lj.ungraph.txt\"\n",
    "#gf_map = get_graph_info(gf_file)\n",
    "#gc.collect()\n",
    "#print \"Get graph map\"\n",
    "#gf_file = \"whole_graph_map.pkl\"\n",
    "#with open(gf_file, 'wb') as fl:\n",
    "#    pickle.dump(gf_map, fl)\n",
    "#print \"Dump the whole graph map to pickle\"\n",
    "#gc.collect()\n"
   ]
  },
  {
   "cell_type": "code",
   "execution_count": 3,
   "metadata": {
    "collapsed": false
   },
   "outputs": [
    {
     "name": "stdout",
     "output_type": "stream",
     "text": [
      "Time Elapsed: 178.807495\n"
     ]
    }
   ],
   "source": [
    "import time\n",
    "t0=time.time()\n",
    "gf_file = \"whole_graph_map.pkl\"\n",
    "file = open(gf_file,'rb')\n",
    "gf_map = pickle.load(file)\n",
    "file.close()\n",
    "\n",
    "print \"Time Elapsed:\", \"{0:02f}\".format(time.time()-t0)"
   ]
  },
  {
   "cell_type": "code",
   "execution_count": 4,
   "metadata": {
    "collapsed": false
   },
   "outputs": [],
   "source": [
    "##--get community information\n",
    "comm_file = '../data/com-lj.all.cmty.txt'\n",
    "comm_map_usr, comm_map_comm = get_comm_info(comm_file)\n",
    "\n",
    "usr_to_com, com_to_usr = comm_map_usr, comm_map_comm \n",
    "del gf_map"
   ]
  },
  {
   "cell_type": "code",
   "execution_count": 5,
   "metadata": {
    "collapsed": false
   },
   "outputs": [
    {
     "name": "stdout",
     "output_type": "stream",
     "text": [
      "Time Elapsed:  21.0892910957 second\n",
      "Number of Nodes:  3997962\n",
      "Number of Edges:  34681189\n"
     ]
    }
   ],
   "source": [
    "import snap\n",
    "import numpy as np\n",
    "import pandas as pd\n",
    "import random\n",
    "import copy\n",
    "import time\n",
    "random.seed(2016)\n",
    "import scipy.stats\n",
    "t0=time.time()\n",
    "\n",
    "G= snap.LoadEdgeList(snap.PUNGraph, \"../data/com-lj.ungraph.txt\", 0, 1)\n",
    "print \"Time Elapsed: \", time.time()-t0, \"second\"\n",
    "print \"Number of Nodes: \", G.GetNodes()\n",
    "print \"Number of Edges: \", G.GetEdges()\n",
    "\n"
   ]
  },
  {
   "cell_type": "code",
   "execution_count": 6,
   "metadata": {
    "collapsed": false
   },
   "outputs": [
    {
     "name": "stdout",
     "output_type": "stream",
     "text": [
      "3997962\n"
     ]
    }
   ],
   "source": [
    "nodes = [node.GetId() for node in G.Nodes()]\n",
    "print len(nodes)"
   ]
  },
  {
   "cell_type": "code",
   "execution_count": 7,
   "metadata": {
    "collapsed": false
   },
   "outputs": [
    {
     "name": "stdout",
     "output_type": "stream",
     "text": [
      "34681189\n"
     ]
    }
   ],
   "source": [
    "edges = [edge.GetId() for edge in G.Edges()]\n",
    "print len(edges)"
   ]
  },
  {
   "cell_type": "code",
   "execution_count": 8,
   "metadata": {
    "collapsed": false,
    "scrolled": true
   },
   "outputs": [
    {
     "name": "stdout",
     "output_type": "stream",
     "text": [
      "Number of users that are at least in one community:  1147948\n"
     ]
    }
   ],
   "source": [
    "usr_in_some_comms = set(usr_to_com.keys())\n",
    "print \"Number of users that are at least in one community: \", len(usr_in_some_comms)"
   ]
  },
  {
   "cell_type": "markdown",
   "metadata": {},
   "source": [
    "# Use sparse matrix to store the number of edges between two communities"
   ]
  },
  {
   "cell_type": "markdown",
   "metadata": {},
   "source": [
    "## Results: 10^7 edges done after 13 hours, memory used reach 20GB. \n",
    "## All of the 3*10^7 edges done after 21 hours, memory used reach 25GB."
   ]
  },
  {
   "cell_type": "code",
   "execution_count": 9,
   "metadata": {
    "collapsed": false
   },
   "outputs": [],
   "source": [
    "import numpy as np\n",
    "from scipy.sparse import csr_matrix, lil_matrix"
   ]
  },
  {
   "cell_type": "code",
   "execution_count": 10,
   "metadata": {
    "collapsed": false,
    "scrolled": true
   },
   "outputs": [
    {
     "name": "stdout",
     "output_type": "stream",
     "text": [
      "10 Edges done, Time Elapsed: 0.00 secs\n",
      "100 Edges done, Time Elapsed: 0.18 secs\n",
      "1000 Edges done, Time Elapsed: 0.46 secs\n",
      "10000 Edges done, Time Elapsed: 147.73 secs\n",
      "100000 Edges done, Time Elapsed: 1052.12 secs\n",
      "1000000 Edges done, Time Elapsed: 5160.19 secs\n",
      "10000000 Edges done, Time Elapsed: 47620.48 secs\n",
      "75082.22 secs\n"
     ]
    }
   ],
   "source": [
    "ncomms = len(com_to_usr)\n",
    "\n",
    "A = lil_matrix((ncomms, ncomms), dtype=np.int32)\n",
    "t0 = time.time()\n",
    "\n",
    "count = 0 # count the number of edges done\n",
    "k=1 # print when 10,10^2, 10^3, 10^4, 10^5, 10^6, 10^7... edges done\n",
    "\n",
    "for edge in edges:\n",
    "    \n",
    "    if count==10**k:\n",
    "        print count, \"Edges done, Time Elapsed:\", \"{0:.2f}\".format(time.time()-t0), \"secs\"\n",
    "        k+=1\n",
    "\n",
    "    #if count >10**3+1:\n",
    "    #    break\n",
    "        \n",
    "    (usr1,usr2) = edge\n",
    "    \n",
    "    if not usr1 in usr_in_some_comms:  # skip if usr1 or usr2 does not belong to any communities\n",
    "        count+=1\n",
    "        continue\n",
    "    if not usr2 in usr_in_some_comms:\n",
    "        count+=1\n",
    "        continue\n",
    "    \n",
    "    for comm1 in usr_to_com[usr1]:\n",
    "        for comm2 in usr_to_com[usr2]:\n",
    "            comm1, comm2 = min(comm1,comm2), max(comm1,comm2)\n",
    "            A[comm1,comm2]+=1\n",
    "    \n",
    "    count+=1\n",
    "\n",
    "\n",
    "print \"{0:.2f}\".format(time.time()-t0), \"secs\""
   ]
  },
  {
   "cell_type": "code",
   "execution_count": 13,
   "metadata": {
    "collapsed": false,
    "scrolled": true
   },
   "outputs": [
    {
     "data": {
      "text/plain": [
       "<664414x664414 sparse matrix of type '<type 'numpy.int32'>'\n",
       "\twith 270236207 stored elements in LInked List format>"
      ]
     },
     "execution_count": 13,
     "metadata": {},
     "output_type": "execute_result"
    }
   ],
   "source": [
    "A"
   ]
  },
  {
   "cell_type": "code",
   "execution_count": 14,
   "metadata": {
    "collapsed": false
   },
   "outputs": [],
   "source": [
    "# Update A to get a symmetric matrix.   (skip, will take more than 2 hrs and consume memory)\n",
    "\n",
    "#for row in range(A.shape[0]):\n",
    "#    A[row:,row] = A[row,row:].transpose()"
   ]
  },
  {
   "cell_type": "code",
   "execution_count": 15,
   "metadata": {
    "collapsed": false
   },
   "outputs": [
    {
     "name": "stdout",
     "output_type": "stream",
     "text": [
      "58.62 secs\n"
     ]
    }
   ],
   "source": [
    "t0 = time.time()\n",
    "A = A.tocsr()\n",
    "#convert to CSR or CSC format for fast arithmetic and matrix vector operations\n",
    "A\n",
    "print \"{0:.2f}\".format(time.time()-t0), \"secs\""
   ]
  },
  {
   "cell_type": "code",
   "execution_count": 16,
   "metadata": {
    "collapsed": false
   },
   "outputs": [],
   "source": [
    "def save_sparse_csr(filename,array):\n",
    "    np.savez(filename,data = array.data ,indices=array.indices,\n",
    "             indptr =array.indptr, shape=array.shape )\n",
    "\n",
    "def load_sparse_csr(filename):\n",
    "    loader = np.load(filename)\n",
    "    return csr_matrix((  loader['data'], loader['indices'], loader['indptr']),\n",
    "                         shape = loader['shape'])"
   ]
  },
  {
   "cell_type": "code",
   "execution_count": 17,
   "metadata": {
    "collapsed": true
   },
   "outputs": [],
   "source": [
    "save_sparse_csr(\"sparse_matrix\",A)"
   ]
  },
  {
   "cell_type": "code",
   "execution_count": null,
   "metadata": {
    "collapsed": true
   },
   "outputs": [],
   "source": [
    "B=load_sparse_csr(\"sparse_matrix.npz\")"
   ]
  },
  {
   "cell_type": "code",
   "execution_count": null,
   "metadata": {
    "collapsed": true
   },
   "outputs": [],
   "source": []
  }
 ],
 "metadata": {
  "kernelspec": {
   "display_name": "Python 2",
   "language": "python",
   "name": "python2"
  },
  "language_info": {
   "codemirror_mode": {
    "name": "ipython",
    "version": 2
   },
   "file_extension": ".py",
   "mimetype": "text/x-python",
   "name": "python",
   "nbconvert_exporter": "python",
   "pygments_lexer": "ipython2",
   "version": "2.7.12"
  }
 },
 "nbformat": 4,
 "nbformat_minor": 0
}
