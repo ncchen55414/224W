{
 "cells": [
  {
   "cell_type": "code",
   "execution_count": 1,
   "metadata": {
    "collapsed": false
   },
   "outputs": [],
   "source": [
    "import gc\n",
    "import pickle\n",
    "import time\n",
    "\n",
    "##--get graph map\n",
    "def get_graph_info(gf_file):\n",
    "    '''\n",
    "    get graph information as a map\n",
    "    key: user id, value: list of friend id\n",
    "    '''\n",
    "    gf_map = {}\n",
    "    with open(gf_file, 'r') as cf:\n",
    "        for line in cf:\n",
    "            if line[0] != '#':\n",
    "                node_list = line.split('\\t')\n",
    "                if len(node_list) == 2:\n",
    "                    node_list = [int(id) for id in node_list]\n",
    "                    if node_list[0] in gf_map:\n",
    "                        gf_map[node_list[0]].add(node_list[1])\n",
    "                    else:\n",
    "                        gf_map[node_list[0]] = set([node_list[1]])\n",
    "                    if node_list[1] in gf_map:\n",
    "                        gf_map[node_list[1]].add(node_list[0])\n",
    "                    else:\n",
    "                        gf_map[node_list[1]] = set([node_list[0]])                    \n",
    "                else:\n",
    "                    print \"wrong format line: \", line\n",
    "    return gf_map\n",
    "\n",
    "def get_comm_info(comm_file):\n",
    "    '''\n",
    "    get community information, two maps\n",
    "    map1: key: user id, value: community id array\n",
    "    map2: key: community id, value: user id array\n",
    "    '''\n",
    "    comm_map_usr = {}\n",
    "    comm_map_comm = {}\n",
    "    comm_id = 0\n",
    "    with open(comm_file, 'r') as cf:\n",
    "        for line in cf:\n",
    "            node_list = line.split('\\t')\n",
    "            node_list = [int(id) for id in node_list]\n",
    "            for id in node_list:\n",
    "                if id in comm_map_usr:\n",
    "                    comm_map_usr[id].append(comm_id)\n",
    "                else:\n",
    "                    comm_map_usr[id] = [comm_id]\n",
    "            comm_map_comm[comm_id] = node_list[:]\n",
    "            comm_id += 1\n",
    "    return comm_map_usr, comm_map_comm\n"
   ]
  },
  {
   "cell_type": "code",
   "execution_count": null,
   "metadata": {
    "collapsed": false
   },
   "outputs": [],
   "source": [
    "#t0=time.time()\n",
    "#gf_file = \"../data/com-lj.ungraph.txt\"\n",
    "#gf_map = get_graph_info(gf_file)\n",
    "#gc.collect()\n",
    "#print \"Get graph map\"\n",
    "#gf_file = \"whole_graph_map.pkl\"\n",
    "#with open(gf_file, 'wb') as fl:\n",
    "#    pickle.dump(gf_map, fl)\n",
    "#print \"Dump the whole graph map to pickle\"\n",
    "#gc.collect()\n"
   ]
  },
  {
   "cell_type": "code",
   "execution_count": 2,
   "metadata": {
    "collapsed": false
   },
   "outputs": [
    {
     "name": "stdout",
     "output_type": "stream",
     "text": [
      "181.843771935\n"
     ]
    }
   ],
   "source": [
    "import time\n",
    "t0=time.time()\n",
    "gf_file = \"whole_graph_map.pkl\"\n",
    "file = open(gf_file,'rb')\n",
    "gf_map = pickle.load(file)\n",
    "file.close()\n",
    "\n",
    "print time.time()-t0"
   ]
  },
  {
   "cell_type": "code",
   "execution_count": 3,
   "metadata": {
    "collapsed": false
   },
   "outputs": [],
   "source": [
    "t0=time.time()\n",
    "\n",
    "##--get community information\n",
    "comm_file = '../data/com-lj.all.cmty.txt'\n",
    "comm_map_usr, comm_map_comm = get_comm_info(comm_file)\n",
    "\n",
    "usr_to_com, com_to_usr = comm_map_usr, comm_map_comm \n",
    "\n"
   ]
  },
  {
   "cell_type": "code",
   "execution_count": 4,
   "metadata": {
    "collapsed": true
   },
   "outputs": [],
   "source": [
    "del gf_map"
   ]
  },
  {
   "cell_type": "code",
   "execution_count": 6,
   "metadata": {
    "collapsed": false
   },
   "outputs": [
    {
     "name": "stdout",
     "output_type": "stream",
     "text": [
      "Time Elapsed:  21.5357861519 second\n",
      "Number of Nodes:  3997962\n",
      "Number of Edges:  34681189\n"
     ]
    }
   ],
   "source": [
    "import snap\n",
    "import numpy as np\n",
    "import pandas as pd\n",
    "import random\n",
    "import copy\n",
    "import time\n",
    "random.seed(2016)\n",
    "import scipy.stats\n",
    "t0=time.time()\n",
    "\n",
    "\n",
    "G= snap.LoadEdgeList(snap.PUNGraph, \"../data/com-lj.ungraph.txt\", 0, 1)\n",
    "print \"Time Elapsed: \", time.time()-t0, \"second\"\n",
    "print \"Number of Nodes: \", G.GetNodes()\n",
    "print \"Number of Edges: \", G.GetEdges()\n",
    "\n"
   ]
  },
  {
   "cell_type": "code",
   "execution_count": 7,
   "metadata": {
    "collapsed": false
   },
   "outputs": [
    {
     "name": "stdout",
     "output_type": "stream",
     "text": [
      "3997962\n"
     ]
    }
   ],
   "source": [
    "nodes = [node.GetId() for node in G.Nodes()]\n",
    "print len(nodes)"
   ]
  },
  {
   "cell_type": "code",
   "execution_count": 8,
   "metadata": {
    "collapsed": false
   },
   "outputs": [
    {
     "name": "stdout",
     "output_type": "stream",
     "text": [
      "34681189\n"
     ]
    }
   ],
   "source": [
    "edges = [edge.GetId() for edge in G.Edges()]\n",
    "print len(edges)"
   ]
  },
  {
   "cell_type": "code",
   "execution_count": 9,
   "metadata": {
    "collapsed": false
   },
   "outputs": [],
   "source": [
    "extended_com_to_usr = {com : com_to_usr[com] for com in com_to_usr}  \n",
    "extended_usr_to_com = {usr : usr_to_com[usr] for usr in usr_to_com}  \n",
    "usr_belong_to_com = set(usr_to_com.keys())\n",
    "n = len(com_to_usr)\n",
    "\n",
    "for usr in nodes:\n",
    "    if usr in usr_belong_to_com:\n",
    "        continue\n",
    "    # if a user does not belong to any community,\n",
    "    # create a community consisting of this user\n",
    "    extended_com_to_usr[n] = [usr]  \n",
    "    extended_usr_to_com[usr] = [n]\n",
    "    n+=1"
   ]
  },
  {
   "cell_type": "code",
   "execution_count": 10,
   "metadata": {
    "collapsed": false
   },
   "outputs": [
    {
     "name": "stdout",
     "output_type": "stream",
     "text": [
      "number of communities:  1147948\n",
      "number of users belongig to at least one community:  664414\n",
      "number of extended communities:  3514428\n",
      "number of extended community users:  3997962\n"
     ]
    }
   ],
   "source": [
    "print \"number of communities: \", len(comm_map_usr)\n",
    "print \"number of users belongig to at least one community: \", len(comm_map_comm)\n",
    "\n",
    "print \"number of extended communities: \", len(extended_com_to_usr)\n",
    "print \"number of extended community users: \", len(extended_usr_to_com)"
   ]
  },
  {
   "cell_type": "markdown",
   "metadata": {
    "collapsed": true
   },
   "source": [
    "# Use dictionary to store the number of edges between two communities (gave up)"
   ]
  },
  {
   "cell_type": "code",
   "execution_count": 67,
   "metadata": {
    "collapsed": false
   },
   "outputs": [
    {
     "name": "stdout",
     "output_type": "stream",
     "text": [
      "9.732694\n"
     ]
    }
   ],
   "source": [
    "\n",
    "t0 = time.time()\n",
    "\n",
    "nedges_between_comms={}\n",
    "count = 0 \n",
    "for edge in edges:\n",
    "    if count >10**4:\n",
    "        break\n",
    "    (usr1,usr2) = edge\n",
    "    for comm1 in extended_usr_to_com[usr1]:\n",
    "        for comm2 in extended_usr_to_com[usr2]:\n",
    "            comm1, comm2 = min(comm1,comm2), max(comm1,comm2)\n",
    "            if (comm1,comm2) in nedges_between_comms:\n",
    "                nedges_between_comms[comm1,comm2]+=1\n",
    "            else:\n",
    "                nedges_between_comms[comm1,comm2]=1\n",
    "    \n",
    "    count+=1\n",
    "\n",
    "print \"{0:02f}\".format(time.time()-t0)"
   ]
  },
  {
   "cell_type": "markdown",
   "metadata": {},
   "source": [
    "# Use sparse matrix to store the number of edges between two communities"
   ]
  },
  {
   "cell_type": "markdown",
   "metadata": {},
   "source": [
    "## Results: 10^7 edges done after 13 hours, memory used reach 27GB. \n",
    "## All of the 3*10^7 edges done after 20.3 hours, memory used reach 30.5GB"
   ]
  },
  {
   "cell_type": "code",
   "execution_count": 51,
   "metadata": {
    "collapsed": false
   },
   "outputs": [],
   "source": [
    "import numpy as np\n",
    "#from scipy.sparse import csr_matrix\n",
    "from scipy.sparse import lil_matrix\n"
   ]
  },
  {
   "cell_type": "code",
   "execution_count": 66,
   "metadata": {
    "collapsed": false
   },
   "outputs": [
    {
     "name": "stdout",
     "output_type": "stream",
     "text": [
      "10 Edges done, Time Elapsed: 0.000598\n",
      "100 Edges done, Time Elapsed: 0.104770\n",
      "1000 Edges done, Time Elapsed: 0.366600\n",
      "10000 Edges done, Time Elapsed: 142.600652\n",
      "100000 Edges done, Time Elapsed: 997.903907\n",
      "1000000 Edges done, Time Elapsed: 4942.929437\n",
      "10000000 Edges done, Time Elapsed: 46031.591431\n",
      "73284.256369\n"
     ]
    }
   ],
   "source": [
    "ncomms = len(extended_com_to_usr)\n",
    "#A = csr_matrix((ncomms, ncomms), dtype=np.int8)\n",
    "A = lil_matrix((ncomms, ncomms), dtype=np.int8)\n",
    "\n",
    "t0 = time.time()\n",
    "\n",
    "\n",
    "count = 0 \n",
    "k=1\n",
    "for edge in edges:\n",
    "    if count >10**8:\n",
    "        break\n",
    "    (usr1,usr2) = edge\n",
    "    for comm1 in extended_usr_to_com[usr1]:\n",
    "        for comm2 in extended_usr_to_com[usr2]:\n",
    "            comm1, comm2 = min(comm1,comm2), max(comm1,comm2)\n",
    "            A[comm1,comm2]+=1\n",
    "\n",
    "    \n",
    "    count+=1\n",
    "    if count==10**k:\n",
    "        print count, \"Edges done, Time Elapsed:\", \"{0:02f}\".format(time.time()-t0)\n",
    "        k+=1\n",
    "\n",
    "print \"{0:02f}\".format(time.time()-t0)"
   ]
  },
  {
   "cell_type": "code",
   "execution_count": 69,
   "metadata": {
    "collapsed": false
   },
   "outputs": [
    {
     "data": {
      "text/plain": [
       "<3514428x3514428 sparse matrix of type '<type 'numpy.int8'>'\n",
       "\twith 352749634 stored elements in LInked List format>"
      ]
     },
     "execution_count": 69,
     "metadata": {},
     "output_type": "execute_result"
    }
   ],
   "source": [
    "A"
   ]
  },
  {
   "cell_type": "code",
   "execution_count": null,
   "metadata": {
    "collapsed": false
   },
   "outputs": [],
   "source": [
    "import cPickle as pickle\n",
    "import numpy as np\n",
    "import scipy.sparse\n",
    "\n",
    "\n",
    "with open('sparse_array.dat', 'wb') as outfile:\n",
    "    pickle.dump(A, outfile, pickle.HIGHEST_PROTOCOL)"
   ]
  },
  {
   "cell_type": "code",
   "execution_count": null,
   "metadata": {
    "collapsed": true
   },
   "outputs": [],
   "source": []
  }
 ],
 "metadata": {
  "kernelspec": {
   "display_name": "Python 2",
   "language": "python",
   "name": "python2"
  },
  "language_info": {
   "codemirror_mode": {
    "name": "ipython",
    "version": 2
   },
   "file_extension": ".py",
   "mimetype": "text/x-python",
   "name": "python",
   "nbconvert_exporter": "python",
   "pygments_lexer": "ipython2",
   "version": "2.7.12"
  }
 },
 "nbformat": 4,
 "nbformat_minor": 0
}
